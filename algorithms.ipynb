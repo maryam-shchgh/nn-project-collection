{
  "nbformat": 4,
  "nbformat_minor": 0,
  "metadata": {
    "colab": {
      "provenance": [],
      "authorship_tag": "ABX9TyMCfwsJKTuomSJTs7icdEIl",
      "include_colab_link": true
    },
    "kernelspec": {
      "name": "python3",
      "display_name": "Python 3"
    },
    "language_info": {
      "name": "python"
    }
  },
  "cells": [
    {
      "cell_type": "markdown",
      "metadata": {
        "id": "view-in-github",
        "colab_type": "text"
      },
      "source": [
        "<a href=\"https://colab.research.google.com/github/maryam-shchgh/nn-project-collection/blob/main/algorithms.ipynb\" target=\"_parent\"><img src=\"https://colab.research.google.com/assets/colab-badge.svg\" alt=\"Open In Colab\"/></a>"
      ]
    },
    {
      "cell_type": "markdown",
      "source": [
        "**Linear Search**"
      ],
      "metadata": {
        "id": "I7LgTUDk1T_Z"
      }
    },
    {
      "cell_type": "code",
      "source": [
        "def linear_search(nums, target):\n",
        "\n",
        "  \"\"\"\n",
        "  Time : O(n)\n",
        "  \"\"\"\n",
        "\n",
        "  for i in range(len(nums)):\n",
        "    if nums[i] == target:\n",
        "      return i\n",
        "\n",
        "  return None\n",
        "\n"
      ],
      "metadata": {
        "id": "244Ete0H1WlL"
      },
      "execution_count": null,
      "outputs": []
    },
    {
      "cell_type": "code",
      "source": [
        "linear_search([3,5,8,9,10,12,15,17,18,24,26], 1)"
      ],
      "metadata": {
        "id": "v3nbi3l718QS"
      },
      "execution_count": null,
      "outputs": []
    },
    {
      "cell_type": "markdown",
      "source": [
        "**Binary Search**"
      ],
      "metadata": {
        "id": "dX-NLwJm9N8X"
      }
    },
    {
      "cell_type": "code",
      "source": [
        "def binary_search(nums, target):\n",
        "\n",
        "  \"\"\"\n",
        "  Time : O(log n)\n",
        "  \"\"\"\n",
        "\n",
        "  first = 0\n",
        "  last = len(nums) - 1\n",
        "\n",
        "  while first <= last:\n",
        "\n",
        "    midpoint = (first + last) // 2\n",
        "\n",
        "    if nums[midpoint] == target:\n",
        "      return midpoint\n",
        "    elif nums[midpoint] < target:\n",
        "      first  = midpoint + 1\n",
        "    else:\n",
        "      last = midpoint - 1\n",
        "\n",
        "  return None\n"
      ],
      "metadata": {
        "id": "bfZal_Ge2PS0"
      },
      "execution_count": null,
      "outputs": []
    },
    {
      "cell_type": "code",
      "source": [
        "binary_search([3,5,8,9,10,12,15,17,18,24,26], 10)"
      ],
      "metadata": {
        "colab": {
          "base_uri": "https://localhost:8080/"
        },
        "id": "PSBBXch44PNX",
        "outputId": "4ebe8358-b772-490d-d622-9263a18e529f"
      },
      "execution_count": null,
      "outputs": [
        {
          "output_type": "execute_result",
          "data": {
            "text/plain": [
              "4"
            ]
          },
          "metadata": {},
          "execution_count": 4
        }
      ]
    },
    {
      "cell_type": "code",
      "source": [
        "def recursive_binary_search(nums, target):\n",
        "  \"\"\"\n",
        "  Time : O(log n)\n",
        "  Using recursive function method\n",
        "  \"\"\"\n",
        "\n",
        "  if len(nums) == 0:\n",
        "    return False\n",
        "\n",
        "  else:\n",
        "    midpoint = len(nums) // 2\n",
        "\n",
        "    if nums[midpoint] == target:\n",
        "      return True\n",
        "    elif nums[midpoint] < target:\n",
        "      return recursive_binary_search(nums[midpoint + 1:], target)\n",
        "    else:\n",
        "      return recursive_binary_search(nums[:midpoint], target)\n"
      ],
      "metadata": {
        "id": "NKvFvDFt4Q4_"
      },
      "execution_count": null,
      "outputs": []
    },
    {
      "cell_type": "code",
      "source": [
        "recursive_binary_search([3,5,8,9,10,12,15,17,18,24,26], 1)"
      ],
      "metadata": {
        "colab": {
          "base_uri": "https://localhost:8080/"
        },
        "id": "SVIeAEfg4qYT",
        "outputId": "f311d98c-f956-44f5-ca84-14c2f3a87dd3"
      },
      "execution_count": null,
      "outputs": [
        {
          "output_type": "execute_result",
          "data": {
            "text/plain": [
              "False"
            ]
          },
          "metadata": {},
          "execution_count": 6
        }
      ]
    },
    {
      "cell_type": "markdown",
      "source": [
        "**Linked List**"
      ],
      "metadata": {
        "id": "NmAz5Q3DKyW_"
      }
    },
    {
      "cell_type": "code",
      "source": [
        "class Node:\n",
        "\n",
        "  def __init__(self, data):\n",
        "    self.data = data\n",
        "    self.next_node = None\n",
        "\n",
        "  def __repr__(self):\n",
        "    return f\"<Node data : {self.data}>\"\n",
        "\n",
        "\n",
        "class LinkedList:\n",
        "\n",
        "  def __init__(self):\n",
        "    self.head = None\n",
        "\n",
        "  def is_empty(self):\n",
        "    \"\"\"\n",
        "    Checks whether the linkedList is empty or not\n",
        "    \"\"\"\n",
        "    return self.head == None\n",
        "\n",
        "  def size(self):\n",
        "    \"\"\"\n",
        "    Returning the size of the linkedList\n",
        "    \"\"\"\n",
        "\n",
        "    current = self.head\n",
        "    count = 0\n",
        "\n",
        "    while current:\n",
        "      count += 1\n",
        "      current = current.next_node\n",
        "\n",
        "    return count\n",
        "\n",
        "  def add(self, data):\n",
        "    \"\"\"\n",
        "    Adding the new node of data as the new head to the linkedList\n",
        "    \"\"\"\n",
        "\n",
        "    new_node = Node(data)\n",
        "    new_node.next_node = self.head\n",
        "\n",
        "    self.head = new_node\n",
        "\n",
        "    return self\n",
        "\n",
        "\n",
        "  def insert(self, data, index):\n",
        "\n",
        "    current_index = 0\n",
        "    current = self.head\n",
        "\n",
        "    if index == 0:\n",
        "      self.add(data)\n",
        "\n",
        "    if index > 0:\n",
        "      new = Node(data)\n",
        "      position = index\n",
        "      current = self.head\n",
        "\n",
        "      while position > 1:\n",
        "        if current.next_node:\n",
        "          current = current.next_node\n",
        "          position -= 1\n",
        "        else:\n",
        "          return f\"Exceeds the linkedLinst length!\"\n",
        "\n",
        "      \"\"\"\n",
        "      when we reached positon == 1,\n",
        "      it means that we are at the previous node.\n",
        "      \"\"\"\n",
        "      temp_next = current.next_node\n",
        "      current.next_node = new\n",
        "      new.next_node = temp_next\n",
        "\n",
        "      return self\n",
        "\n",
        "  def remove(self, target):\n",
        "\n",
        "    current = self.head\n",
        "    prev = None\n",
        "\n",
        "    while current:\n",
        "\n",
        "      if current.data == target:\n",
        "        if prev : prev.next_node = current.next_node\n",
        "        else: self.head = current.next_node\n",
        "\n",
        "        return self\n",
        "\n",
        "      prev = current\n",
        "      current = current.next_node\n",
        "\n",
        "    return f\"Target <Node : {target} doesn not exist.>\"\n",
        "\n",
        "\n",
        "\n",
        "  def search(self, target):\n",
        "\n",
        "    \"\"\"\n",
        "    Search for the target value and return either the target node\n",
        "    or None if it doesnt exist\n",
        "    \"\"\"\n",
        "\n",
        "    current = self.head\n",
        "    while current:\n",
        "      if current.data == target:\n",
        "        return current\n",
        "      else:\n",
        "        current = current.next_node\n",
        "    return f\"Target <node : {target}> doest exist\"\n",
        "\n",
        "  def __repr__(self):\n",
        "\n",
        "    nodes = []\n",
        "    current_node = self.head\n",
        "\n",
        "    while current_node:\n",
        "\n",
        "      if current_node is self.head:\n",
        "        nodes.append(f\"[Head : {current_node.data}]\")\n",
        "      elif current_node.next_node is None:\n",
        "        nodes.append(f\"[Tail : {current_node.data}]\")\n",
        "      else:\n",
        "        nodes.append(f\"[{current_node.data}]\")\n",
        "      current_node = current_node.next_node\n",
        "\n",
        "    return '->'.join(nodes)"
      ],
      "metadata": {
        "id": "zrb0H87u69uf"
      },
      "execution_count": 70,
      "outputs": []
    },
    {
      "cell_type": "code",
      "source": [
        "l = LinkedList()\n",
        "l.add(2)\n",
        "l.add(5)\n",
        "l.add(12)\n",
        "l.add(20)\n",
        "l.add(1)\n",
        "l.add(3)\n",
        "l.add(10)\n",
        "l.search(200)"
      ],
      "metadata": {
        "colab": {
          "base_uri": "https://localhost:8080/",
          "height": 35
        },
        "id": "_PtSeY_aLCBW",
        "outputId": "2a8f1167-cfe4-4044-f21d-0e1727b20c26"
      },
      "execution_count": 59,
      "outputs": [
        {
          "output_type": "execute_result",
          "data": {
            "text/plain": [
              "'Target <node : 200> doest exist'"
            ],
            "application/vnd.google.colaboratory.intrinsic+json": {
              "type": "string"
            }
          },
          "metadata": {},
          "execution_count": 59
        }
      ]
    },
    {
      "cell_type": "code",
      "source": [
        "l = LinkedList()\n",
        "l.add(2)\n",
        "l.add(5)\n",
        "l.add(12)\n",
        "l.add(20)\n",
        "l.add(1)\n",
        "l.add(3)\n",
        "l.add(10)\n",
        "\n",
        "l"
      ],
      "metadata": {
        "colab": {
          "base_uri": "https://localhost:8080/"
        },
        "id": "UjbKkcY17VRS",
        "outputId": "9bbe0041-3b58-4bdf-970d-99f905b1470c"
      },
      "execution_count": 67,
      "outputs": [
        {
          "output_type": "execute_result",
          "data": {
            "text/plain": [
              "[Head : 10]->[3]->[1]->[20]->[12]->[5]->[Tail : 2]"
            ]
          },
          "metadata": {},
          "execution_count": 67
        }
      ]
    },
    {
      "cell_type": "code",
      "source": [
        "l = LinkedList()\n",
        "l.add(2)\n",
        "l.add(5)\n",
        "l.add(12)\n",
        "l.add(20)\n",
        "l.add(1)\n",
        "l.add(3)\n",
        "l.add(10)\n",
        "\n",
        "l.remove(2)"
      ],
      "metadata": {
        "id": "_xue-vAb-Xmq",
        "colab": {
          "base_uri": "https://localhost:8080/"
        },
        "outputId": "8880675f-b803-413a-a6ec-2d65f463e38c"
      },
      "execution_count": 72,
      "outputs": [
        {
          "output_type": "execute_result",
          "data": {
            "text/plain": [
              "[Head : 10]->[3]->[1]->[20]->[12]->[Tail : 5]"
            ]
          },
          "metadata": {},
          "execution_count": 72
        }
      ]
    },
    {
      "cell_type": "markdown",
      "source": [
        "**Merge Sort**"
      ],
      "metadata": {
        "id": "g8bmg2G4FlbO"
      }
    },
    {
      "cell_type": "code",
      "source": [
        "def merge_sort(list):\n",
        "\n",
        "  \"\"\"\n",
        "  input : list <list>\n",
        "  output : sorted list\n",
        "  Time :\n",
        "  \"\"\"\n",
        "\n",
        "  if len(list) <= 1:\n",
        "    return list\n",
        "\n",
        "  left_half, right_half = split(list)\n",
        "  left_sorted = merge_sort(left_half)\n",
        "  right_sorted = merge_sort(right_half)\n",
        "\n",
        "  return merge(left_sorted, right_sorted)\n",
        "\n",
        "\n",
        "def split(list):\n",
        "\n",
        "  midpoint = len(list) // 2\n",
        "\n",
        "  return list[:midpoint], list[midpoint:]\n",
        "\n",
        "\n",
        "def merge(left, right):\n",
        "\n",
        "  L = []\n",
        "\n",
        "  ll, rr = 0 , 0\n",
        "\n",
        "  while ll < len(left) and rr < len(right):\n",
        "    if left[ll] < right[rr]:\n",
        "      L.append(left[ll])\n",
        "      ll += 1\n",
        "    else:\n",
        "      L.append(right[rr])\n",
        "      rr += 1\n",
        "\n",
        "  while ll < len(left):\n",
        "    L.append(left[ll])\n",
        "    ll += 1\n",
        "\n",
        "  while rr < len(right):\n",
        "    L.append(right[rr])\n",
        "    rr += 1\n",
        "\n",
        "  return L\n",
        "\n"
      ],
      "metadata": {
        "id": "0zoHh56FEuwX"
      },
      "execution_count": 3,
      "outputs": []
    },
    {
      "cell_type": "code",
      "source": [
        "A = [2,4,3,1,6,5,8]\n",
        "merge_sort(A)"
      ],
      "metadata": {
        "colab": {
          "base_uri": "https://localhost:8080/"
        },
        "id": "LVFdnGzkGMo2",
        "outputId": "4997622e-9efd-4833-d437-7964f2b28af1"
      },
      "execution_count": 4,
      "outputs": [
        {
          "output_type": "execute_result",
          "data": {
            "text/plain": [
              "[1, 2, 3, 4, 5, 6, 8]"
            ]
          },
          "metadata": {},
          "execution_count": 4
        }
      ]
    },
    {
      "cell_type": "code",
      "source": [],
      "metadata": {
        "id": "59mis4qJRTp7"
      },
      "execution_count": null,
      "outputs": []
    }
  ]
}